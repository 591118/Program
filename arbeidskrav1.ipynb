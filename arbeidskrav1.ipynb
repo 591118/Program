{
 "cells": [
  {
   "cell_type": "code",
   "execution_count": 6,
   "metadata": {},
   "outputs": [],
   "source": [
    "import pandas as pd"
   ]
  },
  {
   "cell_type": "code",
   "execution_count": 13,
   "metadata": {},
   "outputs": [],
   "source": [
    "df = pd.read_excel(\"arbkrav1Data.xlsx\")"
   ]
  },
  {
   "cell_type": "markdown",
   "metadata": {},
   "source": [
    "## Oppgave 1"
   ]
  },
  {
   "cell_type": "code",
   "execution_count": 17,
   "metadata": {},
   "outputs": [],
   "source": [
    "import pandas as pd\n",
    "from sklearn.linear_model import LinearRegression\n",
    "\n",
    "def calculate_beta_from_single_dataframe(df):\n",
    "    # Prepare the data for linear regression\n",
    "    X = df[['Oslo børs avkastning']]\n",
    "    y = df['Veidekke avkastning']\n",
    "    \n",
    "    # Fit the linear regression model\n",
    "    model = LinearRegression().fit(X, y)\n",
    "    \n",
    "    # Get the beta coefficient\n",
    "    beta = model.coef_[0]\n",
    "    \n",
    "    return beta"
   ]
  },
  {
   "cell_type": "markdown",
   "metadata": {},
   "source": [
    "## OPPGAVE 2"
   ]
  },
  {
   "cell_type": "code",
   "execution_count": 24,
   "metadata": {},
   "outputs": [
    {
     "name": "stdout",
     "output_type": "stream",
     "text": [
      "DataFrame for bygg-selskaper:\n",
      "             Selskap  Beta  Gjeldsgrad (D/E) Skatteprosent\n",
      "0  Selvaag bolig ASA  0.88              1.07           22%\n",
      "1     AF Gruppen ASA  0.80              0.75           22%\n",
      "2          Entra ASA  1.28              1.64           22%\n",
      "\n",
      "DataFrame for infrastruktur-selskaper:\n",
      "  Selskap  Beta  Gjeldsgrad (D/E) Skatteprosent\n",
      "0     YIT  1.44              0.94           20%\n",
      "1     NCC  1.09              0.72           21%\n"
     ]
    }
   ],
   "source": [
    "# Data for bygg-selskaper\n",
    "bygg_data = {\n",
    "    'Selskap': ['Selvaag bolig ASA', 'AF Gruppen ASA', 'Entra ASA'],\n",
    "    'Beta': [0.88, 0.80, 1.28],\n",
    "    'Gjeldsgrad (D/E)': [1.07, 0.75, 1.64],\n",
    "    'Skatteprosent': ['22%', '22%', '22%']\n",
    "}\n",
    "\n",
    "# Data for infrastruktur-selskaper\n",
    "infrastruktur_data = {\n",
    "    'Selskap': ['YIT', 'NCC'],\n",
    "    'Beta': [1.44, 1.09],\n",
    "    'Gjeldsgrad (D/E)': [0.94, 0.72],\n",
    "    'Skatteprosent': ['20%', '21%']\n",
    "}\n",
    "\n",
    "# Lag DataFrame for bygg-selskaper\n",
    "bygg_df = pd.DataFrame(bygg_data)\n",
    "\n",
    "# Lag DataFrame for infrastruktur-selskaper\n",
    "infrastruktur_df = pd.DataFrame(infrastruktur_data)\n",
    "\n",
    "print(\"DataFrame for bygg-selskaper:\")\n",
    "print(bygg_df)\n",
    "print(\"\\nDataFrame for infrastruktur-selskaper:\")\n",
    "print(infrastruktur_df)"
   ]
  },
  {
   "cell_type": "code",
   "execution_count": 18,
   "metadata": {},
   "outputs": [],
   "source": []
  },
  {
   "cell_type": "markdown",
   "metadata": {},
   "source": [
    "## Svar"
   ]
  },
  {
   "cell_type": "code",
   "execution_count": 19,
   "metadata": {},
   "outputs": [
    {
     "name": "stdout",
     "output_type": "stream",
     "text": [
      "Beta for Veidekke ASA: 1.0503152004361236\n"
     ]
    }
   ],
   "source": [
    "# Calculate beta\n",
    "beta = calculate_beta_from_single_dataframe(df)\n",
    "print(\"Beta for Veidekke ASA:\", beta)"
   ]
  },
  {
   "cell_type": "code",
   "execution_count": 20,
   "metadata": {},
   "outputs": [
    {
     "name": "stdout",
     "output_type": "stream",
     "text": [
      "Bottom-up beta for Veidekke ASA: 1.287728446666667\n"
     ]
    }
   ],
   "source": [
    "# Gitt data\n",
    "beta_bygg = (0.88 + 0.80 + 1.28) / 3\n",
    "beta_infrastruktur = (1.44 + 1.09) / 2\n",
    "vekting_bygg = 0.46\n",
    "vekting_infrastruktur = 0.54\n",
    "gjeldsgrad = 0.17\n",
    "skatteprosent = 0.22\n",
    "\n",
    "# Beregn bottom-up beta for Veidekke ASA\n",
    "bottom_up_beta = calculate_bottom_up_beta(beta_bygg, beta_infrastruktur, vekting_bygg, vekting_infrastruktur, gjeldsgrad, skatteprosent)\n",
    "print(\"Bottom-up beta for Veidekke ASA:\", bottom_up_beta)"
   ]
  },
  {
   "cell_type": "code",
   "execution_count": 23,
   "metadata": {},
   "outputs": [
    {
     "name": "stdout",
     "output_type": "stream",
     "text": [
      "Avkastningskrav for Veidekke ASA ved bruk av beta fra oppgave 1: 0.0875157600218062\n"
     ]
    }
   ],
   "source": [
    "# Given data\n",
    "risk_free_rate = 0.035  # 3.5% risikofri rente\n",
    "market_risk_premium = 0.05  # 5% markedsrisikopremie\n",
    "\n",
    "# Bruk betaen fra oppgave 1\n",
    "beta_veidekke = beta  # Bruk betaen fra oppgave 1\n",
    "\n",
    "# Beregn avkastningskravet ved hjelp av CAPM-formelen\n",
    "required_return = risk_free_rate + beta_veidekke * market_risk_premium\n",
    "\n",
    "print(\"Avkastningskrav for Veidekke ASA ved bruk av beta fra oppgave 1:\", required_return)"
   ]
  }
 ],
 "metadata": {
  "kernelspec": {
   "display_name": "Python 3",
   "language": "python",
   "name": "python3"
  },
  "language_info": {
   "codemirror_mode": {
    "name": "ipython",
    "version": 3
   },
   "file_extension": ".py",
   "mimetype": "text/x-python",
   "name": "python",
   "nbconvert_exporter": "python",
   "pygments_lexer": "ipython3",
   "version": "3.12.2"
  }
 },
 "nbformat": 4,
 "nbformat_minor": 2
}

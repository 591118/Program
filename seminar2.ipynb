{
 "cells": [
  {
   "cell_type": "markdown",
   "metadata": {},
   "source": [
    "## Seminar 2 -> Dekker kap 8,9 og 10 + Verdsettelse"
   ]
  },
  {
   "cell_type": "markdown",
   "metadata": {},
   "source": [
    "Rullende 12-måend inntekter"
   ]
  },
  {
   "cell_type": "code",
   "execution_count": 2,
   "metadata": {},
   "outputs": [],
   "source": [
    "def rullende_12_måneders_omsetning(omsetning_siste_10k, omsetning_første_3_kvartaler_fjor, omsetning_første_3_kvartaler_år):\n",
    "    rullende_omsetning = omsetning_siste_10k - omsetning_første_3_kvartaler_fjor + omsetning_første_3_kvartaler_år\n",
    "    return rullende_omsetning"
   ]
  },
  {
   "cell_type": "code",
   "execution_count": 3,
   "metadata": {},
   "outputs": [
    {
     "name": "stdout",
     "output_type": "stream",
     "text": [
      "Rullende 12-måneders omsetning er: 1400000\n"
     ]
    }
   ],
   "source": [
    "omsetning_siste_10k = 1000000\n",
    "omsetning_første_3_kvartaler_fjor = 800000\n",
    "omsetning_første_3_kvartaler_år = 1200000\n",
    "\n",
    "rullende_omsetning = rullende_12_måneders_omsetning(omsetning_siste_10k, omsetning_første_3_kvartaler_fjor, omsetning_første_3_kvartaler_år)\n",
    "print(\"Rullende 12-måneders omsetning er:\", rullende_omsetning)"
   ]
  },
  {
   "cell_type": "markdown",
   "metadata": {},
   "source": [
    "ESTIMERE CASH FLOW - FCFE\n",
    "\n",
    "    Beregner frie kontantstrømmer til egenkapital (FCFE) for en selskap med gjeld.\n",
    "\n",
    "    Parametere:\n",
    "    Net_Income (float): Nettoinntekt.\n",
    "    CapEx (float): Kapitalutgifter.\n",
    "    Depreciation (float): Avskrivninger.\n",
    "    Changes_in_Working_Capital (float): Endringer i arbeidskapital.\n",
    "    Principal_Repayments (float): Tilbakebetaling av lån.\n",
    "    New_Debt_Issues (float): Nye lån som er tatt opp.\n",
    "\n",
    "    Returnerer:\n",
    "    FCFE (float): Frie kontantstrømmer til egenkapital.\n",
    "    \"\"\""
   ]
  },
  {
   "cell_type": "code",
   "execution_count": 1,
   "metadata": {},
   "outputs": [],
   "source": [
    "def calculate_FCFE(Net_Income, CapEx, Depreciation, Changes_in_Working_Capital, Principal_Repayments, New_Debt_Issues):\n",
    "    FCFE = Net_Income\n",
    "           - (CapEx - Depreciation)\n",
    "           - Changes_in_Working_Capital\n",
    "           - (Principal_Repayments - New_Debt_Issues)\n",
    "    \n",
    "    return FCFE\n"
   ]
  },
  {
   "cell_type": "code",
   "execution_count": null,
   "metadata": {},
   "outputs": [],
   "source": []
  }
 ],
 "metadata": {
  "kernelspec": {
   "display_name": "Python 3",
   "language": "python",
   "name": "python3"
  },
  "language_info": {
   "codemirror_mode": {
    "name": "ipython",
    "version": 3
   },
   "file_extension": ".py",
   "mimetype": "text/x-python",
   "name": "python",
   "nbconvert_exporter": "python",
   "pygments_lexer": "ipython3",
   "version": "3.12.2"
  }
 },
 "nbformat": 4,
 "nbformat_minor": 2
}

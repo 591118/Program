{
 "cells": [
  {
   "cell_type": "code",
   "execution_count": 102,
   "metadata": {},
   "outputs": [],
   "source": [
    "# %pip install pandas"
   ]
  },
  {
   "cell_type": "code",
   "execution_count": 103,
   "metadata": {},
   "outputs": [],
   "source": [
    "import pandas as pd"
   ]
  },
  {
   "cell_type": "markdown",
   "metadata": {},
   "source": [
    "## Caseforelesningen"
   ]
  },
  {
   "cell_type": "markdown",
   "metadata": {},
   "source": [
    "Oppsummere store deler av pensum! - god repitisjon"
   ]
  },
  {
   "cell_type": "markdown",
   "metadata": {},
   "source": [
    "Gjøres i excel"
   ]
  },
  {
   "cell_type": "markdown",
   "metadata": {},
   "source": [
    "Antakelse\n",
    "\n",
    "1. Høy vekstrate (g) i 5 år\n",
    "2. Vil droppe til en stabil vesktrate etter 5 år\n",
    "3. veksten til Økonomien\n",
    "4. Vil gå fra et høyrisiko til stabilt, og burde hentes fra avkastningskravet"
   ]
  },
  {
   "cell_type": "markdown",
   "metadata": {},
   "source": [
    "DATA - Endre til hvert 1000 ?"
   ]
  },
  {
   "cell_type": "code",
   "execution_count": 104,
   "metadata": {},
   "outputs": [],
   "source": [
    "# Data\n",
    "current_earnings = 1077000  # $1,077,000 in currency        - overskudd\n",
    "current_dividends = 67000  # $67,000 in currency            - utbytte\n",
    "capital_expenditures = 996000  # $996,000 in currency       - investeringer i anleggsmidler\n",
    "current_depreciation = 458000  # $458,000 in currency       - avskrivninger\n",
    "current_revenues = 5385000  # $5,385,000 in currency        - inntekter \n",
    "working_capital = 2154000  # $2,154,000 in currency         - arbeidskapital\n",
    "change_in_working_capital = 269000  # $269,000 in currency  - endring i arbeidskapital"
   ]
  },
  {
   "cell_type": "code",
   "execution_count": 105,
   "metadata": {},
   "outputs": [],
   "source": [
    "cost_of_equity_high_growth = 0.1415  # 14.15% in decimal\n",
    "cost_of_equity_stable_growth = 0.1305  # 13.05% in decimal\n",
    "#Lavere beta, reflekterer mer stabilt firma"
   ]
  },
  {
   "cell_type": "code",
   "execution_count": 194,
   "metadata": {},
   "outputs": [],
   "source": [
    "tax_rate =0.36  # 36% in decimal\n",
    "years = 5"
   ]
  },
  {
   "cell_type": "code",
   "execution_count": 107,
   "metadata": {},
   "outputs": [],
   "source": [
    "intereste_expense = 54000\n",
    "book_value_of_debt = 600000\n",
    "book_value_of_equity = 5445000"
   ]
  },
  {
   "cell_type": "code",
   "execution_count": 108,
   "metadata": {},
   "outputs": [],
   "source": [
    "book_value_of_debt_last_year = 550000\n",
    "book_value_of_equity_last_year = 5130000"
   ]
  },
  {
   "cell_type": "markdown",
   "metadata": {},
   "source": [
    "ROC"
   ]
  },
  {
   "cell_type": "code",
   "execution_count": 109,
   "metadata": {},
   "outputs": [],
   "source": [
    "def calculate_ROC(net_income_currently, Interest_expense_currently, book_value_of_debt, book_value_of_equity, tax_rate):\n",
    "    roc = (net_income_currently + Interest_expense_currently * (1 - tax_rate)) / (book_value_of_debt + book_value_of_equity)\n",
    "    return round(roc, 4)"
   ]
  },
  {
   "cell_type": "code",
   "execution_count": 110,
   "metadata": {},
   "outputs": [
    {
     "name": "stdout",
     "output_type": "stream",
     "text": [
      "0.1957\n"
     ]
    }
   ],
   "source": [
    "roc = calculate_ROC(current_earnings,intereste_expense , book_value_of_debt_last_year, book_value_of_equity_last_year, tax_rate)\n",
    "print (roc)"
   ]
  },
  {
   "cell_type": "markdown",
   "metadata": {},
   "source": [
    "Retention"
   ]
  },
  {
   "cell_type": "code",
   "execution_count": 111,
   "metadata": {},
   "outputs": [],
   "source": [
    "def retention(current_earnings, current_dividends):\n",
    "    retention = 1-(current_dividends/current_earnings)\n",
    "    return round(retention, 5)"
   ]
  },
  {
   "cell_type": "code",
   "execution_count": 112,
   "metadata": {},
   "outputs": [
    {
     "name": "stdout",
     "output_type": "stream",
     "text": [
      "0.93779\n"
     ]
    }
   ],
   "source": [
    "retention = retention(current_earnings, current_dividends)\n",
    "print(retention)"
   ]
  },
  {
   "cell_type": "markdown",
   "metadata": {},
   "source": [
    "D/E"
   ]
  },
  {
   "cell_type": "code",
   "execution_count": 113,
   "metadata": {},
   "outputs": [],
   "source": [
    "def D_E(book_value_of_debt, book_value_of_equity):\n",
    "    D_E = book_value_of_debt / book_value_of_equity\n",
    "    return round(D_E, 4)"
   ]
  },
  {
   "cell_type": "code",
   "execution_count": 114,
   "metadata": {},
   "outputs": [
    {
     "name": "stdout",
     "output_type": "stream",
     "text": [
      "0.1102\n"
     ]
    }
   ],
   "source": [
    "D_E = D_E(book_value_of_debt, book_value_of_equity)\n",
    "print (D_E)"
   ]
  },
  {
   "cell_type": "markdown",
   "metadata": {},
   "source": [
    "Interest rate"
   ]
  },
  {
   "cell_type": "code",
   "execution_count": 115,
   "metadata": {},
   "outputs": [],
   "source": [
    "def interest_rate(intereste_expense, book_value_of_debt):\n",
    "    interest_rate = intereste_expense / book_value_of_debt\n",
    "    return round(interest_rate, 5)"
   ]
  },
  {
   "cell_type": "code",
   "execution_count": 116,
   "metadata": {},
   "outputs": [
    {
     "name": "stdout",
     "output_type": "stream",
     "text": [
      "0.09\n"
     ]
    }
   ],
   "source": [
    "interest_rate = interest_rate(intereste_expense, book_value_of_debt)\n",
    "print (interest_rate)"
   ]
  },
  {
   "cell_type": "markdown",
   "metadata": {},
   "source": [
    "Data hentet"
   ]
  },
  {
   "cell_type": "code",
   "execution_count": 117,
   "metadata": {},
   "outputs": [],
   "source": [
    "geometrisk_average = 0.5219\n",
    "Analyst_estimate_of_growth = 0.19"
   ]
  },
  {
   "cell_type": "code",
   "execution_count": 118,
   "metadata": {},
   "outputs": [],
   "source": [
    "def growth_rate_fundamentals(retention, roc, interest_rate, D_E, tax_rate):\n",
    "    growth_rate_fundamentals = retention * (roc + D_E * (roc - interest_rate * (1 - tax_rate)))\n",
    "    return round(growth_rate_fundamentals, 4)"
   ]
  },
  {
   "cell_type": "code",
   "execution_count": 119,
   "metadata": {},
   "outputs": [
    {
     "name": "stdout",
     "output_type": "stream",
     "text": [
      "0.1978\n"
     ]
    }
   ],
   "source": [
    "growth_rate_fundamentals = growth_rate_fundamentals(retention, roc, interest_rate, D_E, tax_rate)\n",
    "print (growth_rate_fundamentals)"
   ]
  },
  {
   "cell_type": "markdown",
   "metadata": {},
   "source": [
    "Mer data"
   ]
  },
  {
   "cell_type": "code",
   "execution_count": 120,
   "metadata": {},
   "outputs": [],
   "source": [
    "# Data\n",
    "historical_growth_weight = 0.10  # 10.00% in decimal\n",
    "analyst_estimate_growth_weight = 0.40  # 40.00% in decimal\n",
    "fundamentals_growth_weight = 0.50  # 50.00% in decimal\n",
    "\n",
    "growth_rate_in_stable_growth = 0.06  # 6.00% in decimal\n",
    "\n",
    "# Capital Spending, Depreciation & Working Capital\n",
    "capital_spending_high_growth = 0.20  # 20.00% in decimal\n",
    "depreciation_high_growth = 0.20  # 20.00% in decimal\n",
    "revenues_high_growth = 0.18  # 18.00% in decimal\n",
    "revenues_stable_growth = 0.06  # 6.00% in decimal\n",
    "\n",
    "working_capital_as_percent_of_revenues = 0.40  # 40.00% in decimal\n",
    "\n",
    "# Capital spending and Depreciation during Stable Growth\n",
    "return_on_equity_stable_growth = 0.12  # 12.00% in decimal"
   ]
  },
  {
   "cell_type": "markdown",
   "metadata": {},
   "source": [
    "Output av programmet"
   ]
  },
  {
   "cell_type": "code",
   "execution_count": 121,
   "metadata": {},
   "outputs": [],
   "source": [
    "def proportion_of_debt(book_value_of_debt, book_value_of_equity):\n",
    "    proportion_of_debt = book_value_of_debt / (book_value_of_debt + book_value_of_equity)\n",
    "    return round(proportion_of_debt, 4)"
   ]
  },
  {
   "cell_type": "code",
   "execution_count": 122,
   "metadata": {},
   "outputs": [
    {
     "name": "stdout",
     "output_type": "stream",
     "text": [
      "0.0993\n"
     ]
    }
   ],
   "source": [
    "proportion_of_debt = proportion_of_debt(book_value_of_debt, book_value_of_equity)\n",
    "print (proportion_of_debt)"
   ]
  },
  {
   "cell_type": "code",
   "execution_count": 123,
   "metadata": {},
   "outputs": [],
   "source": [
    "def current_FCFE(current_earnings, capital_expenditures, current_depreciation, proportion_of_debt, change_in_working_capital):\n",
    "    ex1 = (capital_expenditures - current_depreciation)*(1-proportion_of_debt)\n",
    "    ex2 = change_in_working_capital*(1-proportion_of_debt)\n",
    "    FCFE = current_earnings - ex1 - ex2\n",
    "    return round(FCFE, 4)"
   ]
  },
  {
   "cell_type": "code",
   "execution_count": 124,
   "metadata": {},
   "outputs": [
    {
     "name": "stdout",
     "output_type": "stream",
     "text": [
      "350135.1\n"
     ]
    }
   ],
   "source": [
    "FCFE = current_FCFE(current_earnings, capital_expenditures, current_depreciation, proportion_of_debt, change_in_working_capital)\n",
    "print (FCFE)"
   ]
  },
  {
   "cell_type": "markdown",
   "metadata": {},
   "source": [
    "Growth in earnings"
   ]
  },
  {
   "cell_type": "code",
   "execution_count": 125,
   "metadata": {},
   "outputs": [],
   "source": [
    "def growth_high_rate(historical_growth_rate, historical_growth_weight, outside_growth_rate, outside_weight, fundamentals_growth_rate, fundamentals_growth_weight):\n",
    "    growth_high_rate = historical_growth_rate * historical_growth_weight + outside_growth_rate * outside_weight + fundamentals_growth_rate * fundamentals_growth_weight\n",
    "    return round(growth_high_rate, 4)"
   ]
  },
  {
   "cell_type": "code",
   "execution_count": 126,
   "metadata": {},
   "outputs": [],
   "source": [
    "growth_rate_highperiod = growth_high_rate(geometrisk_average, historical_growth_weight, Analyst_estimate_of_growth, analyst_estimate_growth_weight, growth_rate_fundamentals, fundamentals_growth_weight)"
   ]
  },
  {
   "cell_type": "markdown",
   "metadata": {},
   "source": [
    "Growth Rate in capital spending, depreciation and working capital"
   ]
  },
  {
   "cell_type": "code",
   "execution_count": 127,
   "metadata": {},
   "outputs": [
    {
     "name": "stdout",
     "output_type": "stream",
     "text": [
      "0.2271\n",
      "0.06\n"
     ]
    }
   ],
   "source": [
    "print (growth_rate_highperiod)\n",
    "print (growth_rate_in_stable_growth)"
   ]
  },
  {
   "cell_type": "markdown",
   "metadata": {},
   "source": [
    "Forecast year 1-5"
   ]
  },
  {
   "cell_type": "code",
   "execution_count": 128,
   "metadata": {},
   "outputs": [],
   "source": [
    "# Function to forecast revenue, earnings, capital expenditures, depreciation, and changing working capital for 5 years\n",
    "def forecast_5_years(current_revenues, current_earnings, capital_expenditures, depreciation, working_capital, revenues_high_growth, growth_rate_highperiod, capital_spending_high_growth, depreciation_high_growth, working_capital_as_percent_of_revenues):\n",
    "    forecasted_data = {\n",
    "        'Year': ['Year {}'.format(i) for i in range(6)],\n",
    "        'Revenue': [current_revenues * (1 + revenues_high_growth)**i for i in range(6)],\n",
    "        'Earnings': [current_earnings * (1 + growth_rate_highperiod)**i for i in range(6)],\n",
    "        'CapEx': [capital_expenditures * (1 + capital_spending_high_growth)**i for i in range(6)],\n",
    "        'Depreciation': [depreciation * (1 + depreciation_high_growth)**i for i in range(6)]\n",
    "    }\n",
    "    df_forecast = pd.DataFrame(forecasted_data)\n",
    "    # Calculate working capital based on revenues\n",
    "    df_forecast['Working Capital'] = df_forecast['Revenue'] * working_capital_as_percent_of_revenues\n",
    "    # Transpose the DataFrame\n",
    "    df_forecast_transposed = df_forecast.set_index('Year').T\n",
    "    return df_forecast_transposed"
   ]
  },
  {
   "cell_type": "code",
   "execution_count": 129,
   "metadata": {},
   "outputs": [
    {
     "data": {
      "text/html": [
       "<div>\n",
       "<style scoped>\n",
       "    .dataframe tbody tr th:only-of-type {\n",
       "        vertical-align: middle;\n",
       "    }\n",
       "\n",
       "    .dataframe tbody tr th {\n",
       "        vertical-align: top;\n",
       "    }\n",
       "\n",
       "    .dataframe thead th {\n",
       "        text-align: right;\n",
       "    }\n",
       "</style>\n",
       "<table border=\"1\" class=\"dataframe\">\n",
       "  <thead>\n",
       "    <tr style=\"text-align: right;\">\n",
       "      <th>Year</th>\n",
       "      <th>Year 0</th>\n",
       "      <th>Year 1</th>\n",
       "      <th>Year 2</th>\n",
       "      <th>Year 3</th>\n",
       "      <th>Year 4</th>\n",
       "      <th>Year 5</th>\n",
       "    </tr>\n",
       "  </thead>\n",
       "  <tbody>\n",
       "    <tr>\n",
       "      <th>Revenue</th>\n",
       "      <td>5385000.0</td>\n",
       "      <td>6354300.0</td>\n",
       "      <td>7.498074e+06</td>\n",
       "      <td>8.847727e+06</td>\n",
       "      <td>1.044032e+07</td>\n",
       "      <td>1.231958e+07</td>\n",
       "    </tr>\n",
       "    <tr>\n",
       "      <th>Earnings</th>\n",
       "      <td>1077000.0</td>\n",
       "      <td>1321586.7</td>\n",
       "      <td>1.621719e+06</td>\n",
       "      <td>1.990011e+06</td>\n",
       "      <td>2.441943e+06</td>\n",
       "      <td>2.996508e+06</td>\n",
       "    </tr>\n",
       "    <tr>\n",
       "      <th>CapEx</th>\n",
       "      <td>996000.0</td>\n",
       "      <td>1195200.0</td>\n",
       "      <td>1.434240e+06</td>\n",
       "      <td>1.721088e+06</td>\n",
       "      <td>2.065306e+06</td>\n",
       "      <td>2.478367e+06</td>\n",
       "    </tr>\n",
       "    <tr>\n",
       "      <th>Depreciation</th>\n",
       "      <td>458000.0</td>\n",
       "      <td>549600.0</td>\n",
       "      <td>6.595200e+05</td>\n",
       "      <td>7.914240e+05</td>\n",
       "      <td>9.497088e+05</td>\n",
       "      <td>1.139651e+06</td>\n",
       "    </tr>\n",
       "    <tr>\n",
       "      <th>Working Capital</th>\n",
       "      <td>2154000.0</td>\n",
       "      <td>2541720.0</td>\n",
       "      <td>2.999230e+06</td>\n",
       "      <td>3.539091e+06</td>\n",
       "      <td>4.176127e+06</td>\n",
       "      <td>4.927830e+06</td>\n",
       "    </tr>\n",
       "  </tbody>\n",
       "</table>\n",
       "</div>"
      ],
      "text/plain": [
       "Year                Year 0     Year 1        Year 2        Year 3  \\\n",
       "Revenue          5385000.0  6354300.0  7.498074e+06  8.847727e+06   \n",
       "Earnings         1077000.0  1321586.7  1.621719e+06  1.990011e+06   \n",
       "CapEx             996000.0  1195200.0  1.434240e+06  1.721088e+06   \n",
       "Depreciation      458000.0   549600.0  6.595200e+05  7.914240e+05   \n",
       "Working Capital  2154000.0  2541720.0  2.999230e+06  3.539091e+06   \n",
       "\n",
       "Year                   Year 4        Year 5  \n",
       "Revenue          1.044032e+07  1.231958e+07  \n",
       "Earnings         2.441943e+06  2.996508e+06  \n",
       "CapEx            2.065306e+06  2.478367e+06  \n",
       "Depreciation     9.497088e+05  1.139651e+06  \n",
       "Working Capital  4.176127e+06  4.927830e+06  "
      ]
     },
     "execution_count": 129,
     "metadata": {},
     "output_type": "execute_result"
    }
   ],
   "source": [
    "# Forecasting revenue for 5 years\n",
    "forecast = forecast_5_years(current_revenues, current_earnings, capital_expenditures, current_depreciation, working_capital, revenues_high_growth, growth_rate_highperiod, capital_spending_high_growth, depreciation_high_growth, working_capital_as_percent_of_revenues)\n",
    "\n",
    "forecast"
   ]
  },
  {
   "cell_type": "markdown",
   "metadata": {},
   "source": [
    "Valuation - 10 siste minuttene"
   ]
  },
  {
   "cell_type": "code",
   "execution_count": 130,
   "metadata": {},
   "outputs": [],
   "source": [
    "def terminal_value_earnings(value, growth):\n",
    "    return value * (1+growth)"
   ]
  },
  {
   "cell_type": "code",
   "execution_count": 131,
   "metadata": {},
   "outputs": [],
   "source": [
    "def terminal_value_change_working_capital(revenue_year5, growth_rate_in_stable_growth, working_capital_as_percent_of_revenues, working_capital_year5, proportion_of_debt):\n",
    "    return ((revenue_year5 * (1+growth_rate_in_stable_growth) * working_capital_as_percent_of_revenues)-working_capital_year5) * (1-proportion_of_debt)"
   ]
  },
  {
   "cell_type": "code",
   "execution_count": 132,
   "metadata": {},
   "outputs": [],
   "source": [
    "def terminal_value_capEx_depreciation(growth_rate_in_stable_growth, return_on_equity_stable_growth, earnings_terminal_year, change_working_capital):\n",
    "    return (growth_rate_in_stable_growth/return_on_equity_stable_growth) * earnings_terminal_year - change_working_capital\n"
   ]
  },
  {
   "cell_type": "code",
   "execution_count": 141,
   "metadata": {},
   "outputs": [],
   "source": [
    "def present_value(result_df, cost_of_equity_high_growth):\n",
    "    list = []\n",
    "    for i in range(1,6):\n",
    "        val = result_df.loc['Free Cashflow to equity', f'Year {i}'] / (1 + cost_of_equity_high_growth) ** i\n",
    "        list.append(val)\n",
    "    return list"
   ]
  },
  {
   "cell_type": "code",
   "execution_count": 134,
   "metadata": {},
   "outputs": [],
   "source": [
    "def capEx_depreciation(forecast, proportion_of_debt):\n",
    "    forecast_df = pd.DataFrame(forecast)\n",
    "    result = []\n",
    "    for i in range(1, 6):  # Loop through Year 1 to Year 5\n",
    "        capex_depreciation = (forecast_df.loc['CapEx', f'Year {i}'] - forecast_df.loc['Depreciation', f'Year {i}']) * (1 - proportion_of_debt)\n",
    "        result.append(capex_depreciation)\n",
    "    return result"
   ]
  },
  {
   "cell_type": "code",
   "execution_count": 135,
   "metadata": {},
   "outputs": [],
   "source": [
    "def change_working_capital(forecast, proportion_of_debt):\n",
    "    forecast_df = pd.DataFrame(forecast)\n",
    "    result = []\n",
    "    for i in range(1, 6):  # Loop through Year 1 to Year 5\n",
    "        change_WK = (forecast_df.loc['Working Capital', f'Year {i}'] - forecast_df.loc['Working Capital', f'Year {i-1}']) * (1 - proportion_of_debt)\n",
    "        result.append(change_WK)\n",
    "    return result"
   ]
  },
  {
   "cell_type": "code",
   "execution_count": 136,
   "metadata": {},
   "outputs": [],
   "source": [
    "def free_cashflow_to_equity(result_df):\n",
    "    free_cashflow_to_equity = []\n",
    "    for i in range(1, 6):  # Loop through Year 1 to Year 5\n",
    "        free_cashflow = result_df.loc['Earnings', f'Year {i}'] - result_df.loc['CapEx - Depreciation', f'Year {i}'] - result_df.loc['Change in Working Capital', f'Year {i}']\n",
    "        free_cashflow_to_equity.append(free_cashflow)\n",
    "    return free_cashflow_to_equity"
   ]
  },
  {
   "cell_type": "code",
   "execution_count": 162,
   "metadata": {},
   "outputs": [],
   "source": [
    "def valuation(forecast, proportion_of_debt, growth_rate_in_stable_growth, return_on_equity_stable_growth, working_capital_as_percent_of_revenues, cost_of_equity_high_growth):\n",
    "    # Create the forecast DataFrame\n",
    "    forecast_df = pd.DataFrame(forecast)\n",
    "\n",
    "    data = {\n",
    "    'Year': forecast_df.columns,\n",
    "    'Earnings': forecast_df.loc['Earnings'].values\n",
    "    }\n",
    "\n",
    "    result_df = pd.DataFrame(data)\n",
    "\n",
    "    # Transpose the dataframe\n",
    "    result_df = result_df.set_index('Year').transpose()\n",
    "    result_df = result_df.drop('Year 0', axis=1)\n",
    "\n",
    "    result_df.loc['Change in Working Capital'] = change_working_capital(forecast, proportion_of_debt)\n",
    "    result_df.loc['CapEx - Depreciation'] = capEx_depreciation(forecast, proportion_of_debt)\n",
    "    result_df.loc['Free Cashflow to equity'] = free_cashflow_to_equity(result_df)\n",
    "    result_df.loc['Present Value'] = present_value(result_df, cost_of_equity_high_growth)\n",
    "\n",
    "    result_df['Terminal Value'] = [0] * len(result_df.index)\n",
    "\n",
    "    result_df['Terminal Value']['Earnings'] = terminal_value_earnings(forecast_df['Year 5']['Earnings'], growth_rate_in_stable_growth)\n",
    "    result_df['Terminal Value']['Change in Working Capital'] = terminal_value_change_working_capital(forecast_df['Year 5']['Revenue'], growth_rate_in_stable_growth, working_capital_as_percent_of_revenues, forecast_df['Year 5']['Working Capital'], proportion_of_debt)\n",
    "    result_df['Terminal Value']['CapEx - Depreciation'] = terminal_value_capEx_depreciation(growth_rate_in_stable_growth, return_on_equity_stable_growth, result_df['Terminal Value']['Earnings'], result_df['Terminal Value']['Change in Working Capital'])\n",
    "    result_df['Terminal Value']['Free Cashflow to equity'] = result_df['Terminal Value']['Earnings'] - result_df['Terminal Value']['CapEx - Depreciation'] - result_df['Terminal Value']['Change in Working Capital']\n",
    "\n",
    "    return result_df"
   ]
  },
  {
   "cell_type": "code",
   "execution_count": 163,
   "metadata": {},
   "outputs": [
    {
     "name": "stderr",
     "output_type": "stream",
     "text": [
      "C:\\Users\\even\\AppData\\Local\\Temp\\ipykernel_30816\\59108075.py:23: FutureWarning: ChainedAssignmentError: behaviour will change in pandas 3.0!\n",
      "You are setting values through chained assignment. Currently this works in certain cases, but when using Copy-on-Write (which will become the default behaviour in pandas 3.0) this will never work to update the original DataFrame or Series, because the intermediate object on which we are setting values will behave as a copy.\n",
      "A typical example is when you are setting values in a column of a DataFrame, like:\n",
      "\n",
      "df[\"col\"][row_indexer] = value\n",
      "\n",
      "Use `df.loc[row_indexer, \"col\"] = values` instead, to perform the assignment in a single step and ensure this keeps updating the original `df`.\n",
      "\n",
      "See the caveats in the documentation: https://pandas.pydata.org/pandas-docs/stable/user_guide/indexing.html#returning-a-view-versus-a-copy\n",
      "\n",
      "  result_df['Terminal Value']['Earnings'] = terminal_value_earnings(forecast_df['Year 5']['Earnings'], growth_rate_in_stable_growth)\n",
      "C:\\Users\\even\\AppData\\Local\\Temp\\ipykernel_30816\\59108075.py:23: SettingWithCopyWarning: \n",
      "A value is trying to be set on a copy of a slice from a DataFrame\n",
      "\n",
      "See the caveats in the documentation: https://pandas.pydata.org/pandas-docs/stable/user_guide/indexing.html#returning-a-view-versus-a-copy\n",
      "  result_df['Terminal Value']['Earnings'] = terminal_value_earnings(forecast_df['Year 5']['Earnings'], growth_rate_in_stable_growth)\n",
      "C:\\Users\\even\\AppData\\Local\\Temp\\ipykernel_30816\\59108075.py:23: FutureWarning: Setting an item of incompatible dtype is deprecated and will raise an error in a future version of pandas. Value '3176298.789632345' has dtype incompatible with int64, please explicitly cast to a compatible dtype first.\n",
      "  result_df['Terminal Value']['Earnings'] = terminal_value_earnings(forecast_df['Year 5']['Earnings'], growth_rate_in_stable_growth)\n"
     ]
    },
    {
     "data": {
      "text/html": [
       "<div>\n",
       "<style scoped>\n",
       "    .dataframe tbody tr th:only-of-type {\n",
       "        vertical-align: middle;\n",
       "    }\n",
       "\n",
       "    .dataframe tbody tr th {\n",
       "        vertical-align: top;\n",
       "    }\n",
       "\n",
       "    .dataframe thead th {\n",
       "        text-align: right;\n",
       "    }\n",
       "</style>\n",
       "<table border=\"1\" class=\"dataframe\">\n",
       "  <thead>\n",
       "    <tr style=\"text-align: right;\">\n",
       "      <th>Year</th>\n",
       "      <th>Year 1</th>\n",
       "      <th>Year 2</th>\n",
       "      <th>Year 3</th>\n",
       "      <th>Year 4</th>\n",
       "      <th>Year 5</th>\n",
       "      <th>Terminal Value</th>\n",
       "    </tr>\n",
       "  </thead>\n",
       "  <tbody>\n",
       "    <tr>\n",
       "      <th>Earnings</th>\n",
       "      <td>1.321587e+06</td>\n",
       "      <td>1.621719e+06</td>\n",
       "      <td>1.990011e+06</td>\n",
       "      <td>2.441943e+06</td>\n",
       "      <td>2.996508e+06</td>\n",
       "      <td>3.176299e+06</td>\n",
       "    </tr>\n",
       "    <tr>\n",
       "      <th>Change in Working Capital</th>\n",
       "      <td>3.492194e+05</td>\n",
       "      <td>4.120789e+05</td>\n",
       "      <td>4.862531e+05</td>\n",
       "      <td>5.737787e+05</td>\n",
       "      <td>6.770588e+05</td>\n",
       "      <td>2.663098e+05</td>\n",
       "    </tr>\n",
       "    <tr>\n",
       "      <th>CapEx - Depreciation</th>\n",
       "      <td>5.814919e+05</td>\n",
       "      <td>6.977903e+05</td>\n",
       "      <td>8.373484e+05</td>\n",
       "      <td>1.004818e+06</td>\n",
       "      <td>1.205782e+06</td>\n",
       "      <td>1.321840e+06</td>\n",
       "    </tr>\n",
       "    <tr>\n",
       "      <th>Free Cashflow to equity</th>\n",
       "      <td>3.908754e+05</td>\n",
       "      <td>5.118498e+05</td>\n",
       "      <td>6.664100e+05</td>\n",
       "      <td>8.633463e+05</td>\n",
       "      <td>1.113668e+06</td>\n",
       "      <td>1.588149e+06</td>\n",
       "    </tr>\n",
       "    <tr>\n",
       "      <th>Present Value</th>\n",
       "      <td>3.424226e+05</td>\n",
       "      <td>3.928174e+05</td>\n",
       "      <td>4.480369e+05</td>\n",
       "      <td>5.084888e+05</td>\n",
       "      <td>5.746139e+05</td>\n",
       "      <td>0.000000e+00</td>\n",
       "    </tr>\n",
       "  </tbody>\n",
       "</table>\n",
       "</div>"
      ],
      "text/plain": [
       "Year                             Year 1        Year 2        Year 3  \\\n",
       "Earnings                   1.321587e+06  1.621719e+06  1.990011e+06   \n",
       "Change in Working Capital  3.492194e+05  4.120789e+05  4.862531e+05   \n",
       "CapEx - Depreciation       5.814919e+05  6.977903e+05  8.373484e+05   \n",
       "Free Cashflow to equity    3.908754e+05  5.118498e+05  6.664100e+05   \n",
       "Present Value              3.424226e+05  3.928174e+05  4.480369e+05   \n",
       "\n",
       "Year                             Year 4        Year 5  Terminal Value  \n",
       "Earnings                   2.441943e+06  2.996508e+06    3.176299e+06  \n",
       "Change in Working Capital  5.737787e+05  6.770588e+05    2.663098e+05  \n",
       "CapEx - Depreciation       1.004818e+06  1.205782e+06    1.321840e+06  \n",
       "Free Cashflow to equity    8.633463e+05  1.113668e+06    1.588149e+06  \n",
       "Present Value              5.084888e+05  5.746139e+05    0.000000e+00  "
      ]
     },
     "execution_count": 163,
     "metadata": {},
     "output_type": "execute_result"
    }
   ],
   "source": [
    "value = valuation(forecast, proportion_of_debt, growth_rate_in_stable_growth, return_on_equity_stable_growth, working_capital_as_percent_of_revenues, cost_of_equity_high_growth)\n",
    "value"
   ]
  },
  {
   "cell_type": "code",
   "execution_count": null,
   "metadata": {},
   "outputs": [],
   "source": [
    "def terminal_value_end_growth(growth_rate_in_stable_growth, FCFE_last, cost_of_equity_stable_growth):\n",
    "    return FCFE_last / (cost_of_equity_stable_growth - growth_rate_in_stable_growth)"
   ]
  },
  {
   "cell_type": "code",
   "execution_count": 192,
   "metadata": {},
   "outputs": [
    {
     "name": "stdout",
     "output_type": "stream",
     "text": [
      "22526941.77044216\n"
     ]
    }
   ],
   "source": [
    "terminal_value_end_growthperiod = terminal_value_end_growth(growth_rate_in_stable_growth, value['Terminal Value']['Free Cashflow to equity'], cost_of_equity_stable_growth)\n",
    "print (terminal_value_end_growthperiod)"
   ]
  },
  {
   "cell_type": "code",
   "execution_count": 193,
   "metadata": {},
   "outputs": [
    {
     "name": "stdout",
     "output_type": "stream",
     "text": [
      "2266379.5087518394\n"
     ]
    }
   ],
   "source": [
    "sum_of_present_value = sum(value.iloc[-1].values)\n",
    "print(sum_of_present_value)"
   ]
  },
  {
   "cell_type": "code",
   "execution_count": 195,
   "metadata": {},
   "outputs": [
    {
     "name": "stdout",
     "output_type": "stream",
     "text": [
      "11623118.27978188\n"
     ]
    }
   ],
   "source": [
    "present_value_of_terminal_value = terminal_value_end_growthperiod / (1 + cost_of_equity_high_growth) ** years\n",
    "print (present_value_of_terminal_value)"
   ]
  },
  {
   "cell_type": "code",
   "execution_count": 196,
   "metadata": {},
   "outputs": [
    {
     "name": "stdout",
     "output_type": "stream",
     "text": [
      "13889497.78853372\n"
     ]
    }
   ],
   "source": [
    "value_of_equiry = sum_of_present_value + present_value_of_terminal_value\n",
    "print (value_of_equiry)"
   ]
  },
  {
   "cell_type": "code",
   "execution_count": 197,
   "metadata": {},
   "outputs": [],
   "source": [
    "def value_of_share (value, shares):\n",
    "    return value / shares"
   ]
  },
  {
   "cell_type": "code",
   "execution_count": 198,
   "metadata": {},
   "outputs": [
    {
     "name": "stdout",
     "output_type": "stream",
     "text": [
      "51.58587850894603\n"
     ]
    }
   ],
   "source": [
    "value_share = value_of_share(value_of_equiry, 269250)\n",
    "print (value_share)"
   ]
  },
  {
   "cell_type": "code",
   "execution_count": null,
   "metadata": {},
   "outputs": [],
   "source": []
  }
 ],
 "metadata": {
  "kernelspec": {
   "display_name": "Python 3",
   "language": "python",
   "name": "python3"
  },
  "language_info": {
   "codemirror_mode": {
    "name": "ipython",
    "version": 3
   },
   "file_extension": ".py",
   "mimetype": "text/x-python",
   "name": "python",
   "nbconvert_exporter": "python",
   "pygments_lexer": "ipython3",
   "version": "3.12.2"
  }
 },
 "nbformat": 4,
 "nbformat_minor": 2
}

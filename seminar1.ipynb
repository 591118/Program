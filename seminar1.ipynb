{
 "cells": [
  {
   "cell_type": "markdown",
   "metadata": {},
   "source": [
    "## SAMLING AV FORELESNINGER FRA KAP 4-8 + SEMINAR 1"
   ]
  },
  {
   "cell_type": "code",
   "execution_count": 116,
   "metadata": {},
   "outputs": [],
   "source": [
    "# %pip install scipy\n",
    "# %pip install sympy"
   ]
  },
  {
   "cell_type": "code",
   "execution_count": 117,
   "metadata": {},
   "outputs": [],
   "source": [
    "from scipy.optimize import fsolve\n",
    "from sympy import symbols, Eq"
   ]
  },
  {
   "cell_type": "markdown",
   "metadata": {},
   "source": [
    "## Verdsettelse - cash flow"
   ]
  },
  {
   "cell_type": "code",
   "execution_count": 118,
   "metadata": {},
   "outputs": [],
   "source": [
    "cashflows_equity = [50, 60, 68, 76.2, 83.49 + 1603]\n",
    "cashflows_firm = [90, 100, 108, 116.2, 123.49 + 2363]\n",
    "cost_of_equity = 0.13625"
   ]
  },
  {
   "cell_type": "markdown",
   "metadata": {},
   "source": [
    "Method 1: Discount CF to Equity at Cost of Equity to get value of equity\n",
    "\n",
    "Fair value"
   ]
  },
  {
   "cell_type": "code",
   "execution_count": 119,
   "metadata": {},
   "outputs": [
    {
     "name": "stdout",
     "output_type": "stream",
     "text": [
      "Value of Equity (Method 1): 1073.01\n"
     ]
    }
   ],
   "source": [
    "discounted_cashflows_equity = [cf / (1 + cost_of_equity)**(i+1) for i, cf in enumerate(cashflows_equity)]\n",
    "value_of_equity_method1 = sum(discounted_cashflows_equity)\n",
    "\n",
    "print(\"Value of Equity (Method 1):\", round(value_of_equity_method1, 2))"
   ]
  },
  {
   "cell_type": "markdown",
   "metadata": {},
   "source": [
    "Method 2: Discount CF to Firm at Cost of Capital to get value of firm\n",
    "\n",
    "Fair value"
   ]
  },
  {
   "cell_type": "code",
   "execution_count": 120,
   "metadata": {},
   "outputs": [
    {
     "name": "stdout",
     "output_type": "stream",
     "text": [
      "Value of Equity (Method 2): 1073.46\n"
     ]
    }
   ],
   "source": [
    "cost_of_debt = 0.05\n",
    "tax_rate = 0.5\n",
    "market_value_of_equity = 1073\n",
    "market_value_of_debt = 800\n",
    "\n",
    "wacc = cost_of_equity * (market_value_of_equity / (market_value_of_equity + market_value_of_debt)) + cost_of_debt * (market_value_of_debt / (market_value_of_equity + market_value_of_debt))\n",
    "\n",
    "discounted_cashflows_firm = [cf / (1 + wacc)**(i+1) for i, cf in enumerate(cashflows_firm)]\n",
    "value_of_firm = sum(discounted_cashflows_firm)\n",
    "\n",
    "value_of_equity_method2 = value_of_firm - market_value_of_debt\n",
    "\n",
    "print(\"Value of Equity (Method 2):\", round(value_of_equity_method2, 2))"
   ]
  },
  {
   "cell_type": "markdown",
   "metadata": {},
   "source": [
    "Error 2: Discount CF to Firm at Cost of Equity to get firm value\n",
    "\n",
    "Undervurdere aksjen"
   ]
  },
  {
   "cell_type": "code",
   "execution_count": 121,
   "metadata": {},
   "outputs": [
    {
     "name": "stdout",
     "output_type": "stream",
     "text": [
      "Value of Equity (Error 2): 812.85\n"
     ]
    }
   ],
   "source": [
    "discounted_cashflows_firm_error2 = [cf / (1 + cost_of_equity)**(i+1) for i, cf in enumerate(cashflows_firm)]\n",
    "value_of_firm_error2 = sum(discounted_cashflows_firm_error2)\n",
    "\n",
    "value_of_equity_error2 = value_of_firm_error2 - market_value_of_debt\n",
    "print(\"Value of Equity (Error 2):\", round(value_of_equity_error2, 2))\n"
   ]
  },
  {
   "cell_type": "markdown",
   "metadata": {},
   "source": [
    "## Implied Equity Premiums"
   ]
  },
  {
   "cell_type": "code",
   "execution_count": 122,
   "metadata": {},
   "outputs": [],
   "source": [
    "now_value = 1468.36\n",
    "implied_equity_premium = [61.98, 65.08, 68.33, 71.75, 75.34]\n",
    "divided_stock_buybacks = 0.0402"
   ]
  },
  {
   "cell_type": "code",
   "execution_count": 123,
   "metadata": {},
   "outputs": [
    {
     "name": "stdout",
     "output_type": "stream",
     "text": [
      "The solution for r is: 0.0839\n"
     ]
    }
   ],
   "source": [
    "def equation(r, implied_equity_premium, divided_stock_buybacks, now_value):\n",
    "    result = sum([implied_equity_premium[i] / (1+r)**(i+1) for i in range(len(implied_equity_premium))])\n",
    "    result += (implied_equity_premium[-1]*(1+divided_stock_buybacks)) / ((r - divided_stock_buybacks)*(1+r)**len(implied_equity_premium))\n",
    "    return result - now_value\n",
    "\n",
    "# Initial guess for the root\n",
    "initial_guess = 1\n",
    "\n",
    "# Solve the equation numerically\n",
    "solution = fsolve(equation, initial_guess, args=(implied_equity_premium, divided_stock_buybacks, now_value))\n",
    "rounded_solution = round(solution[0], 4)\n",
    "\n",
    "# Print the solution for r\n",
    "print(\"The solution for r is:\", rounded_solution)\n"
   ]
  },
  {
   "cell_type": "markdown",
   "metadata": {},
   "source": [
    "## Estimere beta"
   ]
  },
  {
   "cell_type": "markdown",
   "metadata": {},
   "source": [
    "MANGLER DEFINERTE VARIABLER"
   ]
  },
  {
   "cell_type": "markdown",
   "metadata": {},
   "source": [
    "DUMMY DATA"
   ]
  },
  {
   "cell_type": "code",
   "execution_count": 124,
   "metadata": {},
   "outputs": [],
   "source": [
    "unleverd = 0.95\n",
    "tax_rate = 0.34\n",
    "DE = 0.1895\n",
    "debt = 1953\n",
    "cash = 2320\n",
    "market_value_of_equity = 11042"
   ]
  },
  {
   "cell_type": "code",
   "execution_count": 125,
   "metadata": {},
   "outputs": [],
   "source": [
    "# Define the symbols\n",
    "βL, βu, t, D, E, βdebt = symbols('βL βu t D E βdebt')"
   ]
  },
  {
   "cell_type": "code",
   "execution_count": 126,
   "metadata": {},
   "outputs": [
    {
     "name": "stdout",
     "output_type": "stream",
     "text": [
      "Eq(βL, βu*(D*(1 - t)/E + 1))\n"
     ]
    }
   ],
   "source": [
    "conventional_approach = formula_A = Eq(βL, βu * (1 + ((1 - t) * D / E)))\n",
    "print (conventional_approach)"
   ]
  },
  {
   "cell_type": "code",
   "execution_count": 127,
   "metadata": {},
   "outputs": [
    {
     "name": "stdout",
     "output_type": "stream",
     "text": [
      "Eq(βL, -D*βdebt*(1 - t)/E + βu*(D*(1 - t)/E + 1))\n"
     ]
    }
   ],
   "source": [
    "debt_adjusted_approch = Eq(βL, βu * (1 + ((1 - t) * D / E)) - βdebt * (1 - t) * (D / E))\n",
    "print (debt_adjusted_approch)"
   ]
  },
  {
   "cell_type": "markdown",
   "metadata": {},
   "source": [
    "Levered beta"
   ]
  },
  {
   "cell_type": "code",
   "execution_count": 128,
   "metadata": {},
   "outputs": [],
   "source": [
    "levered = unleverd *(1+(1-tax_rate)*DE)"
   ]
  },
  {
   "cell_type": "code",
   "execution_count": 129,
   "metadata": {},
   "outputs": [
    {
     "name": "stdout",
     "output_type": "stream",
     "text": [
      "1.0688165\n"
     ]
    }
   ],
   "source": [
    "print (levered)"
   ]
  },
  {
   "cell_type": "markdown",
   "metadata": {},
   "source": [
    "Brutto gjeldsgrad"
   ]
  },
  {
   "cell_type": "code",
   "execution_count": 130,
   "metadata": {},
   "outputs": [],
   "source": [
    "def gross_debt_ratio (debt , market_value_of_equity):\n",
    "    return debt / market_value_of_equity"
   ]
  },
  {
   "cell_type": "code",
   "execution_count": 132,
   "metadata": {},
   "outputs": [
    {
     "name": "stdout",
     "output_type": "stream",
     "text": [
      "0.17687013222242348\n"
     ]
    }
   ],
   "source": [
    "print (gross_debt_ratio(debt , market_value_of_equity))"
   ]
  },
  {
   "cell_type": "markdown",
   "metadata": {},
   "source": [
    "Netto gjeldsgrad"
   ]
  },
  {
   "cell_type": "code",
   "execution_count": null,
   "metadata": {},
   "outputs": [],
   "source": []
  },
  {
   "cell_type": "code",
   "execution_count": 133,
   "metadata": {},
   "outputs": [],
   "source": [
    "def net_debt(debt, cash , market_value_of_equity):\n",
    "    return ((debt-cash) / market_value_of_equity)"
   ]
  },
  {
   "cell_type": "markdown",
   "metadata": {},
   "source": [
    "Resultat fra formel ovenfor til bruk i Levered Beta using Net Debt Ratio"
   ]
  },
  {
   "cell_type": "code",
   "execution_count": 134,
   "metadata": {},
   "outputs": [
    {
     "name": "stdout",
     "output_type": "stream",
     "text": [
      "-0.03323673247600072\n"
     ]
    }
   ],
   "source": [
    "net_debt_value = net_debt(debt, cash, market_value_of_equity)\n",
    "print (net_debt_value)"
   ]
  },
  {
   "cell_type": "code",
   "execution_count": 135,
   "metadata": {},
   "outputs": [],
   "source": [
    "def levered_using_net_debt(unleverd, tax_rate, net_debt_value):\n",
    "    return unleverd * (1+ (1-tax_rate)*net_debt_value)"
   ]
  },
  {
   "cell_type": "code",
   "execution_count": 136,
   "metadata": {},
   "outputs": [
    {
     "name": "stdout",
     "output_type": "stream",
     "text": [
      "0.9291605687375475\n"
     ]
    }
   ],
   "source": [
    "print (levered_using_net_debt(unleverd, tax_rate, net_debt_value))"
   ]
  },
  {
   "cell_type": "markdown",
   "metadata": {},
   "source": [
    "## Gjeldskostnad"
   ]
  },
  {
   "cell_type": "markdown",
   "metadata": {},
   "source": [
    "Dummy variabler"
   ]
  },
  {
   "cell_type": "code",
   "execution_count": 146,
   "metadata": {},
   "outputs": [],
   "source": [
    "EBIT = 462.1\n",
    "interest_expenses = 129.70"
   ]
  },
  {
   "cell_type": "markdown",
   "metadata": {},
   "source": [
    "rentedekningsgrad / interest coverage ratio"
   ]
  },
  {
   "cell_type": "code",
   "execution_count": 147,
   "metadata": {},
   "outputs": [],
   "source": [
    "def interest_coverage_ratio (EBIT , interest_expenses):\n",
    "    return EBIT / interest_expenses"
   ]
  },
  {
   "cell_type": "code",
   "execution_count": 148,
   "metadata": {},
   "outputs": [
    {
     "name": "stdout",
     "output_type": "stream",
     "text": [
      "3.56283731688512\n"
     ]
    }
   ],
   "source": [
    "print (interest_coverage_ratio(EBIT, interest_expenses))"
   ]
  },
  {
   "cell_type": "markdown",
   "metadata": {},
   "source": [
    "IKKE FERDIG"
   ]
  },
  {
   "cell_type": "markdown",
   "metadata": {},
   "source": [
    "Cost of debt - gjeldskostnad"
   ]
  },
  {
   "cell_type": "code",
   "execution_count": 150,
   "metadata": {},
   "outputs": [],
   "source": [
    "def cost_of_debt(riskfree_rent, brasil_): \n",
    "    return riskfree_rent"
   ]
  },
  {
   "cell_type": "code",
   "execution_count": null,
   "metadata": {},
   "outputs": [],
   "source": []
  },
  {
   "cell_type": "markdown",
   "metadata": {},
   "source": [
    "## Kap 7 oppgave 2"
   ]
  },
  {
   "cell_type": "code",
   "execution_count": 6,
   "metadata": {},
   "outputs": [],
   "source": [
    "def kalkulere_misholdsrisk(risikofri_rente=None, misligholdsrisiko_palslag=None, rente_statsobl=None):\n",
    "    if rente_statsobl is not None and misligholdsrisiko_palslag is not None:\n",
    "        # Beregn risikofri rente når rente_statsobl og misligholdsrisiko er gitt\n",
    "        risikofri_rente = rente_statsobl - misligholdsrisiko_palslag\n",
    "        return risikofri_rente\n",
    "   \n",
    "    elif risikofri_rente is not None and misligholdsrisiko_palslag is not None:\n",
    "        # Beregn rente_statsobl når risikofri rente og misligholdsrisiko er gitt\n",
    "        rente_statsobl = risikofri_rente + misligholdsrisiko_palslag\n",
    "        return rente_statsobl\n",
    "    \n",
    "    elif risikofri_rente is not None and rente_statsobl is not None:\n",
    "        # Beregn misligholdsrisiko når risikofri rente og rente_statsobl er gitt\n",
    "        misligholdsrisiko_palslag = rente_statsobl - risikofri_rente\n",
    "        return misligholdsrisiko_palslag\n",
    "    else:\n",
    "        return \"Feil: Du må gi inn to av de tre parametrene.\""
   ]
  },
  {
   "cell_type": "code",
   "execution_count": 8,
   "metadata": {},
   "outputs": [
    {
     "name": "stdout",
     "output_type": "stream",
     "text": [
      "0.065\n"
     ]
    }
   ],
   "source": [
    "# Eksempelbruk:\n",
    "statsobligasjon = 0.085\n",
    "misligholdsrisiko_palslag = 0.02\n",
    "\n",
    "print (kalkulere_misholdsrisk(rente_statsobl=statsobligasjon, misligholdsrisiko_palslag=misligholdsrisiko_palslag))"
   ]
  },
  {
   "cell_type": "markdown",
   "metadata": {},
   "source": [
    "## KAP 7 Oppgave 4      - FEIL PÅ OMGJØRING AV FORMEL\n"
   ]
  },
  {
   "cell_type": "code",
   "execution_count": 25,
   "metadata": {},
   "outputs": [],
   "source": [
    "import math\n",
    "\n",
    "def calculate_forward_rate(forward_rate=None, spot_rate=None, interest_rate1=None, interest_rate2=None, time_period=None):\n",
    "    if forward_rate is None:\n",
    "        forward_rate = ((1 + interest_rate1) ** time_period) / ((1 + interest_rate2) ** time_period) - 1\n",
    "        return forward_rate\n",
    "    elif spot_rate is None:\n",
    "        spot_rate = forward_rate ** time_period / ((1 + interest_rate1) ** time_period / (1 + interest_rate2) ** time_period)\n",
    "        return spot_rate\n",
    "    elif time_period is None:\n",
    "        time_period = math.log((spot_rate * ((1 + interest_rate1) ** time_period) / ((1 + interest_rate2) ** time_period))) / math.log(forward_rate)\n",
    "        return time_period\n",
    "    elif interest_rate1 is None:\n",
    "        interest_rate1 = (spot_rate * ((1 + interest_rate2) ** time_period) / forward_rate - 1) / time_period\n",
    "        return interest_rate1\n",
    "    elif interest_rate2 is None:\n",
    "        interest_rate2 = (spot_rate * ((1 + interest_rate1) ** time_period) / forward_rate - 1) / time_period\n",
    "        return interest_rate2\n",
    "    else:\n",
    "        print (\"Må legge inn 4 av 5 parametere\")"
   ]
  },
  {
   "cell_type": "code",
   "execution_count": 26,
   "metadata": {},
   "outputs": [
    {
     "name": "stdout",
     "output_type": "stream",
     "text": [
      "0.0047146545785498265\n"
     ]
    }
   ],
   "source": [
    "# Eksempelbruk:\n",
    "Forward_rate = 70\n",
    "spot = 45\n",
    "time_period = 10\n",
    "interest_rate_usd = 0.05\n",
    "\n",
    "print (calculate_forward_rate(forward_rate = Forward_rate, spot_rate=spot, interest_rate1=None, interest_rate2=interest_rate_usd, time_period=time_period))"
   ]
  },
  {
   "cell_type": "markdown",
   "metadata": {},
   "source": [
    "## Marketsrisikopremie"
   ]
  },
  {
   "cell_type": "markdown",
   "metadata": {},
   "source": [
    "arimetrisk gjennomsnitt"
   ]
  },
  {
   "cell_type": "code",
   "execution_count": 30,
   "metadata": {},
   "outputs": [],
   "source": [
    "numbers_list = [5, 10, 15, 20, 25]"
   ]
  },
  {
   "cell_type": "code",
   "execution_count": 31,
   "metadata": {},
   "outputs": [],
   "source": [
    "def arithmetic_average(numbers):\n",
    "    if not numbers:\n",
    "        return None  # Handle empty list case\n",
    "    total_sum = sum(numbers)\n",
    "    num_elements = len(numbers)\n",
    "    average = total_sum / num_elements\n",
    "    return average"
   ]
  },
  {
   "cell_type": "markdown",
   "metadata": {},
   "source": [
    "Geometrisk gjennomsnitt"
   ]
  },
  {
   "cell_type": "code",
   "execution_count": 32,
   "metadata": {},
   "outputs": [],
   "source": [
    "from math import prod\n",
    "\n",
    "def geometric_mean(numbers):\n",
    "    if not numbers:\n",
    "        return None  # Handle empty list case\n",
    "    product = prod(numbers)\n",
    "    num_elements = len(numbers)\n",
    "    geometric_mean = product ** (1 / num_elements)\n",
    "    return geometric_mean"
   ]
  },
  {
   "cell_type": "code",
   "execution_count": 33,
   "metadata": {},
   "outputs": [
    {
     "name": "stdout",
     "output_type": "stream",
     "text": [
      "Arithmetic Average: 15.0\n",
      "Geometric Mean: 13.025855423486762\n"
     ]
    }
   ],
   "source": [
    "resulta = arithmetic_average(numbers_list)\n",
    "print(\"Arithmetic Average:\", resulta)\n",
    "\n",
    "resultg = geometric_mean(numbers_list)\n",
    "print(\"Geometric Mean:\", resultg)"
   ]
  },
  {
   "cell_type": "markdown",
   "metadata": {},
   "source": [
    "Standard feil"
   ]
  },
  {
   "cell_type": "code",
   "execution_count": 37,
   "metadata": {},
   "outputs": [],
   "source": [
    "import math\n",
    "\n",
    "def calculate_standard_error_percentage(annual_return_std_dev, num_years):\n",
    "    if num_years <= 0:\n",
    "        return None  # Invalid input for the number of years\n",
    "    standard_error = (annual_return_std_dev / math.sqrt(num_years)) * 100\n",
    "    return standard_error\n"
   ]
  },
  {
   "cell_type": "code",
   "execution_count": 38,
   "metadata": {},
   "outputs": [
    {
     "name": "stdout",
     "output_type": "stream",
     "text": [
      "Standard Error in Premium (%): 2.23606797749979\n"
     ]
    }
   ],
   "source": [
    "# Example data\n",
    "annual_return_std_dev = 0.20  # 20%\n",
    "num_years = 80\n",
    "\n",
    "# Calculate standard error in percentage\n",
    "result_percentage = calculate_standard_error_percentage(annual_return_std_dev, num_years)\n",
    "print(\"Standard Error in Premium (%):\", result_percentage)\n"
   ]
  },
  {
   "cell_type": "markdown",
   "metadata": {},
   "source": [
    "OPPGAVE"
   ]
  },
  {
   "cell_type": "code",
   "execution_count": 42,
   "metadata": {},
   "outputs": [],
   "source": [
    "def calculate_capm(ra=None , rf=None, beta=None, rm=None):\n",
    "    ra = rf + beta * (rm - rf)\n",
    "    return ra\n"
   ]
  },
  {
   "cell_type": "code",
   "execution_count": 43,
   "metadata": {},
   "outputs": [
    {
     "ename": "TypeError",
     "evalue": "calculate_capm() missing 1 required positional argument: 'market_return'",
     "output_type": "error",
     "traceback": [
      "\u001b[1;31m---------------------------------------------------------------------------\u001b[0m",
      "\u001b[1;31mTypeError\u001b[0m                                 Traceback (most recent call last)",
      "Cell \u001b[1;32mIn[43], line 6\u001b[0m\n\u001b[0;32m      3\u001b[0m new_risk_free_rate_change \u001b[38;5;241m=\u001b[39m \u001b[38;5;241m0.01\u001b[39m        \u001b[38;5;66;03m# 1%\u001b[39;00m\n\u001b[0;32m      5\u001b[0m \u001b[38;5;66;03m# Calculate adjusted equity risk premium\u001b[39;00m\n\u001b[1;32m----> 6\u001b[0m result \u001b[38;5;241m=\u001b[39m \u001b[43mcalculate_capm\u001b[49m\u001b[43m(\u001b[49m\u001b[43mhistorical_equity_risk_premium\u001b[49m\u001b[43m,\u001b[49m\u001b[43m \u001b[49m\u001b[43mnew_risk_free_rate_change\u001b[49m\u001b[43m)\u001b[49m\n\u001b[0;32m      7\u001b[0m \u001b[38;5;28mprint\u001b[39m(\u001b[38;5;124m\"\u001b[39m\u001b[38;5;124mAdjusted Equity Risk Premium:\u001b[39m\u001b[38;5;124m\"\u001b[39m, result)\n",
      "\u001b[1;31mTypeError\u001b[0m: calculate_capm() missing 1 required positional argument: 'market_return'"
     ]
    }
   ],
   "source": [
    "# Example data\n",
    "historical_equity_risk_premium = 0.05   # 5%\n",
    "new_risk_free_rate_change = 0.01        # 1%\n",
    "\n",
    "# Calculate adjusted equity risk premium\n",
    "result = calculate_capm(historical_equity_risk_premium, new_risk_free_rate_change)\n",
    "print(\"Adjusted Equity Risk Premium:\", result)"
   ]
  },
  {
   "cell_type": "markdown",
   "metadata": {},
   "source": [
    "Oppgave 8a , kap 7"
   ]
  },
  {
   "cell_type": "code",
   "execution_count": 45,
   "metadata": {},
   "outputs": [],
   "source": [
    "def estimate_country_risk_premium_using_default_spread(country_bond_yield, reference_country_bond_yield):\n",
    "    default_spread = country_bond_yield - reference_country_bond_yield\n",
    "    return default_spread"
   ]
  },
  {
   "cell_type": "code",
   "execution_count": 46,
   "metadata": {},
   "outputs": [
    {
     "name": "stdout",
     "output_type": "stream",
     "text": [
      "Country Risk Premium (Default Spread): 0.025\n"
     ]
    }
   ],
   "source": [
    "# Example data for part a\n",
    "poland_bond_yield = 0.076  # 7.6%\n",
    "germany_bond_yield = 0.051  # 5.1%\n",
    "\n",
    "# Estimate country risk premium using default spread\n",
    "result_a = estimate_country_risk_premium_using_default_spread(poland_bond_yield, germany_bond_yield)\n",
    "print(\"Country Risk Premium (Default Spread):\", result_a)\n"
   ]
  },
  {
   "cell_type": "markdown",
   "metadata": {},
   "source": [
    "Oppgave 8b -> feil på formel"
   ]
  },
  {
   "cell_type": "code",
   "execution_count": 53,
   "metadata": {},
   "outputs": [],
   "source": [
    "def estimate_country_risk_premium_using_standard_deviations(country_equity_std_dev, country_bond_std_dev, risk_free_rate):\n",
    "    country_risk_premium = (country_equity_std_dev / country_bond_std_dev) * 100 * risk_free_rate\n",
    "    return country_risk_premium\n"
   ]
  },
  {
   "cell_type": "code",
   "execution_count": 54,
   "metadata": {},
   "outputs": [
    {
     "name": "stdout",
     "output_type": "stream",
     "text": [
      "Country Risk Premium (Standard Deviations): 4.166666666666667\n"
     ]
    }
   ],
   "source": [
    "# Example data for part b\n",
    "poland_equity_std_dev = 0.25  # 25%\n",
    "poland_bond_std_dev = 0.15  # 15%\n",
    "risk_free_rate = 0.025\n",
    "\n",
    "# Estimate country risk premium using standard deviations\n",
    "result_b = estimate_country_risk_premium_using_standard_deviations(poland_equity_std_dev, poland_bond_std_dev, risk_free_rate)\n",
    "print(\"Country Risk Premium (Standard Deviations):\", result_b)\n"
   ]
  },
  {
   "cell_type": "markdown",
   "metadata": {},
   "source": [
    "## Eksamenoppgaver"
   ]
  },
  {
   "cell_type": "markdown",
   "metadata": {},
   "source": [
    "eksamen konte 2014, oppgave 2a"
   ]
  },
  {
   "cell_type": "code",
   "execution_count": null,
   "metadata": {},
   "outputs": [],
   "source": []
  },
  {
   "cell_type": "markdown",
   "metadata": {},
   "source": [
    "Oppgave 1b 2016 eksamen ordinær"
   ]
  },
  {
   "cell_type": "code",
   "execution_count": 55,
   "metadata": {},
   "outputs": [],
   "source": [
    "def calculate_expected_return(risk_free_rate=None, beta=None, market_return=None, country_risk_premium=None, expected_return=None):\n",
    "    if expected_return is None:\n",
    "        if risk_free_rate is None or beta is None or market_return is None or country_risk_premium is None:\n",
    "            return None  # Insufficient information provided\n",
    "        expected_return = risk_free_rate + beta * (market_return - risk_free_rate) + country_risk_premium\n",
    "    elif risk_free_rate is None:\n",
    "        risk_free_rate = expected_return - beta * (market_return - risk_free_rate) - country_risk_premium\n",
    "    elif beta is None:\n",
    "        beta = (expected_return - risk_free_rate - country_risk_premium) / (market_return - risk_free_rate)\n",
    "    elif market_return is None:\n",
    "        market_return = (expected_return - risk_free_rate + country_risk_premium) / beta\n",
    "    elif country_risk_premium is None:\n",
    "        country_risk_premium = expected_return - risk_free_rate - beta * (market_return - risk_free_rate)\n",
    "    \n",
    "    return expected_return, risk_free_rate, beta, market_return, country_risk_premium\n"
   ]
  },
  {
   "cell_type": "code",
   "execution_count": 56,
   "metadata": {},
   "outputs": [],
   "source": [
    "# Example data for the company in Mexico\n",
    "company_beta = 1.5\n",
    "risk_free_rate = 0.03  # 3%\n",
    "market_risk_premium = 0.06  # 6%\n",
    "country_risk_premium_mexico = 0.07  # 7%\n",
    "company_percentage_domestic_income = 0.20  # 20%\n",
    "average_domestic_income_percentage_mexico = 0.90  # 90%"
   ]
  },
  {
   "cell_type": "code",
   "execution_count": 64,
   "metadata": {},
   "outputs": [
    {
     "name": "stdout",
     "output_type": "stream",
     "text": [
      "Solved for Missing Value: 0.19\n"
     ]
    }
   ],
   "source": [
    "# Calculate expected return for the company in Mexico\n",
    "expected_return_result = calculate_expected_return(\n",
    "    beta=company_beta,\n",
    "    risk_free_rate=risk_free_rate,\n",
    "    market_return=risk_free_rate + market_risk_premium,\n",
    "    country_risk_premium=country_risk_premium_mexico\n",
    ")\n",
    "\n",
    "# Print the missing value that has been solved for\n",
    "print(\"Solved for Missing Value:\", expected_return_result[0])"
   ]
  },
  {
   "cell_type": "code",
   "execution_count": null,
   "metadata": {},
   "outputs": [],
   "source": []
  }
 ],
 "metadata": {
  "kernelspec": {
   "display_name": "Python 3",
   "language": "python",
   "name": "python3"
  },
  "language_info": {
   "codemirror_mode": {
    "name": "ipython",
    "version": 3
   },
   "file_extension": ".py",
   "mimetype": "text/x-python",
   "name": "python",
   "nbconvert_exporter": "python",
   "pygments_lexer": "ipython3",
   "version": "3.12.1"
  }
 },
 "nbformat": 4,
 "nbformat_minor": 2
}
